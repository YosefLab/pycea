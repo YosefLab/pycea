{
 "cells": [
  {
   "cell_type": "markdown",
   "id": "0694af36",
   "metadata": {},
   "source": [
    "# Generate koblan25 TreeData\n",
    "\n",
    "Generate TreeData object using 4T1 data from [High-resolution spatial mapping of cell state and lineage dynamics in vivo with PEtracer](https://www.biorxiv.org/content/10.1101/2025.06.15.659774v1)\n",
    "\n",
    "## Setup"
   ]
  },
  {
   "cell_type": "code",
   "execution_count": 47,
   "id": "df1a3755",
   "metadata": {},
   "outputs": [
    {
     "name": "stdout",
     "output_type": "stream",
     "text": [
      "The autoreload extension is already loaded. To reload it, use:\n",
      "  %reload_ext autoreload\n"
     ]
    }
   ],
   "source": [
    "from pathlib import Path\n",
    "\n",
    "import scanpy as sc\n",
    "import scipy as sp\n",
    "import treedata as td\n",
    "\n",
    "path = Path(\"/lab/solexa_weissman/wcolgan/pycea/datasets/koblan25/\")\n",
    "data_path = path / \"data\"\n",
    "\n",
    "%load_ext autoreload\n",
    "%autoreload 2"
   ]
  },
  {
   "cell_type": "markdown",
   "id": "dd18d19a",
   "metadata": {},
   "source": [
    "## Tumor data"
   ]
  },
  {
   "cell_type": "code",
   "execution_count": 48,
   "id": "6b825cd1",
   "metadata": {},
   "outputs": [],
   "source": [
    "mouse = 3\n",
    "tdata = td.read_h5td(data_path / f\"M{mouse}_tumor_tracing.h5td\")\n",
    "tdata.X = sp.sparse.csr_matrix(tdata.layers[\"counts\"])\n",
    "layers = list(tdata.layers.keys())\n",
    "for key in layers:\n",
    "    del tdata.layers[key]\n",
    "tdata.obst[\"tree\"] = tdata.obst[\"1_collapsed\"]\n",
    "del tdata.obst[\"1\"]\n",
    "del tdata.obst[\"1_collapsed\"]\n",
    "tdata.write_h5td(path / \"koblan25_tumor.h5td\", overwrite=True)"
   ]
  },
  {
   "cell_type": "markdown",
   "id": "bcd18605",
   "metadata": {},
   "source": [
    "## Barcoding data"
   ]
  },
  {
   "cell_type": "code",
   "execution_count": null,
   "id": "03ed3a22",
   "metadata": {},
   "outputs": [],
   "source": [
    "clone = 4\n",
    "tdata = td.read_h5td(data_path / f\"barcoded_tracing_clone_{clone}.h5td\")\n",
    "tdata.layers[\"counts\"] = tdata.X.copy()\n",
    "sc.pp.normalize_total(tdata, target_sum=1e4)\n",
    "sc.pp.log1p(tdata)\n",
    "sc.pp.filter_genes(tdata, min_cells=0.1 * tdata.shape[0])\n",
    "sc.pp.highly_variable_genes(tdata, n_top_genes=2000, subset=True)\n",
    "tdata.X = tdata.layers[\"counts\"].copy()\n",
    "del tdata.layers[\"counts\"]\n",
    "tdata.write_h5td(path / \"koblan25_barcoding.h5td\", overwrite=True)"
   ]
  },
  {
   "cell_type": "code",
   "execution_count": 45,
   "id": "c7a2b98a",
   "metadata": {},
   "outputs": [
    {
     "data": {
      "text/plain": [
       "TreeData object with n_obs × n_vars = 3108 × 2000\n",
       "    obs: 'cellBC', 'sample', 'clone', 'type', 'puro', 'blast', 'tree', 'puro_clade', 'combined_clade', 'blast_clade', 'fitness'\n",
       "    var: 'mean_counts', 'total_counts', 'n_cells', 'highly_variable', 'means', 'dispersions', 'dispersions_norm'\n",
       "    uns: 'log1p', 'hvg'\n",
       "    obsm: 'blast_counts', 'characters', 'puro_counts'\n",
       "    obst: 'tree'"
      ]
     },
     "execution_count": 45,
     "metadata": {},
     "output_type": "execute_result"
    }
   ],
   "source": [
    "tdata"
   ]
  },
  {
   "cell_type": "code",
   "execution_count": null,
   "id": "34ae716c",
   "metadata": {},
   "outputs": [],
   "source": []
  }
 ],
 "metadata": {
  "kernelspec": {
   "display_name": "pycea",
   "language": "python",
   "name": "pycea"
  },
  "language_info": {
   "codemirror_mode": {
    "name": "ipython",
    "version": 3
   },
   "file_extension": ".py",
   "mimetype": "text/x-python",
   "name": "python",
   "nbconvert_exporter": "python",
   "pygments_lexer": "ipython3",
   "version": "3.11.10"
  }
 },
 "nbformat": 4,
 "nbformat_minor": 5
}
