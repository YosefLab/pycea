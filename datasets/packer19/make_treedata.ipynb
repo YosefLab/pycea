{
 "cells": [
  {
   "cell_type": "markdown",
   "id": "0694af36",
   "metadata": {},
   "source": [
    "# Generate packer19 TreeData\n",
    "\n",
    "Generate TreeData object using C.elegans data from [A lineage-resolved molecular atlas of C. elegans embryogenesis at single-cell resolution](https://www.science.org/doi/10.1126/science.aax1971)\n",
    "\n",
    "## Setup"
   ]
  },
  {
   "cell_type": "code",
   "execution_count": 96,
   "id": "df1a3755",
   "metadata": {},
   "outputs": [],
   "source": [
    "from pathlib import Path\n",
    "\n",
    "import networkx as nx\n",
    "import pandas as pd\n",
    "import scipy as sp\n",
    "import treedata as td\n",
    "\n",
    "path = Path(\"/lab/solexa_weissman/wcolgan/pycea/datasets/packer19/\")\n",
    "data_path = path / \"data\""
   ]
  },
  {
   "cell_type": "markdown",
   "id": "dd18d19a",
   "metadata": {},
   "source": [
    "## Load data"
   ]
  },
  {
   "cell_type": "code",
   "execution_count": 199,
   "id": "b741493a",
   "metadata": {},
   "outputs": [],
   "source": [
    "lineage = pd.read_excel(\n",
    "    data_path / \"aax1971_packer_tables_s1_to_s6_s9_s12_s13_s15_s16.xlsx\", sheet_name=\"Table_S6\", header=24\n",
    ")\n",
    "expression = pd.read_csv(data_path / \"aax1971_Table_S8.gz\", compression=\"gzip\", sep=\"\\t\")\n",
    "annotations = pd.read_excel(\n",
    "    data_path / \"aax1971_packer_tables_s1_to_s6_s9_s12_s13_s15_s16.xlsx\", sheet_name=\"Table_S4\", header=9\n",
    ")\n",
    "positions = pd.read_csv(data_path / \"richards_positions.csv\")"
   ]
  },
  {
   "cell_type": "markdown",
   "id": "adc80792",
   "metadata": {},
   "source": [
    "## Generate tree"
   ]
  },
  {
   "cell_type": "code",
   "execution_count": 206,
   "id": "dff270a0",
   "metadata": {},
   "outputs": [],
   "source": [
    "lineage = lineage[[\"cell\", \"birth_time\", \"dies\", \"annotation_name\", \"clade\", \"generation_within_clade\", \"parent_cell\"]]\n",
    "tree = nx.DiGraph()\n",
    "max_depth = 400\n",
    "for _, row in lineage.iterrows():\n",
    "    if row[\"birth_time\"] >= max_depth:\n",
    "        continue\n",
    "    tree.add_node(row[\"cell\"], **row.to_dict())\n",
    "    if not pd.isna(row[\"parent_cell\"]):\n",
    "        if not pd.isna(row[\"clade\"]):\n",
    "            tree.add_edge(row[\"parent_cell\"], row[\"cell\"], clade=row[\"clade\"])\n",
    "        else:\n",
    "            tree.add_edge(row[\"parent_cell\"], row[\"cell\"])\n",
    "node_times = {}\n",
    "for node in tree.nodes:\n",
    "    children = list(tree.successors(node))\n",
    "    if len(children) > 0:\n",
    "        node_times[node] = min(tree.nodes[children[0]][\"birth_time\"], max_depth)\n",
    "    elif tree.nodes[node][\"dies\"]:\n",
    "        parent = list(tree.predecessors(node))\n",
    "        node_times[node] = min(node_times[parent[0]] + 20, max_depth)\n",
    "    else:\n",
    "        node_times[node] = max_depth\n",
    "nx.set_node_attributes(tree, node_times, \"time\")"
   ]
  },
  {
   "cell_type": "markdown",
   "id": "6aad42e0",
   "metadata": {},
   "source": [
    "## Generate TreeData"
   ]
  },
  {
   "cell_type": "markdown",
   "id": "fd73a4a5",
   "metadata": {},
   "source": [
    "Scale positions to microns"
   ]
  },
  {
   "cell_type": "code",
   "execution_count": 200,
   "id": "ddcd2b77",
   "metadata": {},
   "outputs": [],
   "source": [
    "positions[\"x\"] = positions[\"x\"] * 0.087\n",
    "positions[\"y\"] = positions[\"y\"] * 0.087\n",
    "positions[\"z\"] = positions[\"z\"] * 0.504\n",
    "positions.drop_duplicates(subset=[\"cell\"], inplace=True, keep=\"last\")"
   ]
  },
  {
   "cell_type": "markdown",
   "id": "2871b19a",
   "metadata": {},
   "source": [
    "Get counts, obs, and var"
   ]
  },
  {
   "cell_type": "code",
   "execution_count": 219,
   "id": "10623498",
   "metadata": {},
   "outputs": [],
   "source": [
    "var = expression.groupby(\"gene\").agg({\"gene.id\": \"first\"}).rename(columns={\"gene.id\": \"gene_id\"})\n",
    "counts = expression.pivot_table(index=\"lineage\", columns=\"gene\", values=\"adjusted.tpm.estimate\")\n",
    "obs = lineage.query(\"cell.isin(@tree.nodes) & annotation_name.isin(@counts.index)\")\n",
    "obs = obs.merge(\n",
    "    annotations[[\"Lineage\", \"Lineage group\", \"UMAP\", \"Cells produced\"]].rename(\n",
    "        columns={\n",
    "            \"Lineage\": \"annotation_name\",\n",
    "            \"Lineage group\": \"lineage_group\",\n",
    "            \"UMAP\": \"umap_cluster\",\n",
    "            \"Cells produced\": \"cells_produced\",\n",
    "        }\n",
    "    ),\n",
    "    on=\"annotation_name\",\n",
    "    how=\"left\",\n",
    ")\n",
    "obs = obs.merge(positions[[\"cell\", \"x\", \"y\", \"z\"]], on=\"cell\", how=\"left\").set_index(\"cell\")\n",
    "obs[\"time\"] = obs.index.map(node_times)\n",
    "tdata = td.TreeData(\n",
    "    X=sp.sparse.csr_matrix(counts.loc[obs.annotation_name]), obs=obs, var=var, obst={\"tree\": tree}, alignment=\"subset\"\n",
    ")\n",
    "tdata.obsm[\"spatial\"] = obs[[\"x\", \"y\", \"z\"]].values"
   ]
  },
  {
   "cell_type": "markdown",
   "id": "a5bd64a0",
   "metadata": {},
   "source": [
    "## Save TreeData"
   ]
  },
  {
   "cell_type": "code",
   "execution_count": 223,
   "id": "0c5fc003",
   "metadata": {},
   "outputs": [],
   "source": [
    "tdata.write_h5td(path / \"packer19.h5td\")"
   ]
  }
 ],
 "metadata": {
  "kernelspec": {
   "display_name": "pycea",
   "language": "python",
   "name": "pycea"
  }
 },
 "nbformat": 4,
 "nbformat_minor": 5
}
