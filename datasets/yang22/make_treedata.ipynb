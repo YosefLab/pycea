{
 "cells": [
  {
   "cell_type": "markdown",
   "id": "0694af36",
   "metadata": {},
   "source": [
    "# Generate yang22 TreeData\n",
    "\n",
    "Generate TreeData object using KP data from [Lineage tracing reveals the phylodynamics, plasticity, and paths of tumor evolution](https://doi.org/10.1016/j.cell.2022.04.015)\n",
    "\n",
    "## Setup"
   ]
  },
  {
   "cell_type": "code",
   "execution_count": 1,
   "id": "df1a3755",
   "metadata": {},
   "outputs": [],
   "source": [
    "from pathlib import Path\n",
    "\n",
    "import ete3\n",
    "import networkx as nx\n",
    "import pandas as pd\n",
    "import scanpy as sc\n",
    "import treedata as td\n",
    "\n",
    "import pycea as py\n",
    "\n",
    "path = Path(\"/lab/solexa_weissman/wcolgan/pycea/datasets/yang22/\")\n",
    "data_path = path / \"data\"\n",
    "\n",
    "%load_ext autoreload\n",
    "%autoreload 2"
   ]
  },
  {
   "cell_type": "markdown",
   "id": "e7b422a0",
   "metadata": {},
   "source": [
    "## Helper functions"
   ]
  },
  {
   "cell_type": "code",
   "execution_count": 2,
   "id": "e3408c7a",
   "metadata": {},
   "outputs": [],
   "source": [
    "def read_newick(path, cells):\n",
    "    \"\"\"Helper function to read newick tree files.\"\"\"\n",
    "    tree = ete3.Tree(str(path))\n",
    "    leaves = tree.get_leaf_names()\n",
    "    tree.prune(set(cells) & set(leaves))\n",
    "    g = nx.DiGraph()\n",
    "    node_iter = 0\n",
    "    for n in tree.traverse():\n",
    "        if n.name == \"\":\n",
    "            n.name = f\"node{node_iter}\"\n",
    "            node_iter += 1\n",
    "        if n.is_root():\n",
    "            continue\n",
    "        g.add_edge(n.up.name, n.name)\n",
    "    return g"
   ]
  },
  {
   "cell_type": "markdown",
   "id": "dd18d19a",
   "metadata": {},
   "source": [
    "## Load data"
   ]
  },
  {
   "cell_type": "markdown",
   "id": "ca313b00",
   "metadata": {},
   "source": [
    "load expression"
   ]
  },
  {
   "cell_type": "code",
   "execution_count": 194,
   "id": "a0473f5c",
   "metadata": {},
   "outputs": [],
   "source": [
    "tdata = td.read_h5td(data_path / \"expression\" / \"adata_processed.nt.h5ad\")"
   ]
  },
  {
   "cell_type": "markdown",
   "id": "8db12c8a",
   "metadata": {},
   "source": [
    "Load trees"
   ]
  },
  {
   "cell_type": "code",
   "execution_count": 195,
   "id": "9520955b",
   "metadata": {},
   "outputs": [],
   "source": [
    "fitness = []\n",
    "characters = []\n",
    "for tumor in tdata.obs.Tumor.unique():\n",
    "    tree_path = data_path / \"trees\" / f\"{tumor}_tree.nwk\"\n",
    "    if not tree_path.exists():\n",
    "        continue\n",
    "    tree = read_newick(tree_path, tdata.obs_names)\n",
    "    tdata.obst[tumor] = tree\n",
    "    tumor_characters = pd.read_csv(data_path / \"trees\" / f\"{tumor}_character_matrix.txt\", sep=\"\\t\", index_col=0)\n",
    "    characters.append(tumor_characters)\n",
    "    fitness_path = data_path / \"fitnesses\" / f\"mean_fitness.{tumor}.txt\"\n",
    "    if fitness_path.exists():\n",
    "        tumor_fitness = pd.read_csv(fitness_path, sep=\"\\t\", index_col=0)\n",
    "        fitness.append(tumor_fitness)\n",
    "tdata = tdata[tdata.obs.tree.notnull()].copy()\n",
    "characters = pd.concat(characters, axis=0).fillna(\"-\").astype(str).loc[tdata.obs_names].copy()\n",
    "tdata.obsm[\"characters\"] = characters.iloc[:, :30]\n",
    "tdata.obs[\"fitness\"] = pd.concat(fitness, axis=0)\n",
    "plasticity = pd.read_csv(data_path / \"plasticity_scores.tsv\", sep=\"\\t\", index_col=0)\n",
    "tdata.obs[\"plasticity\"] = plasticity.loc[:, \"scPlasticity\"]\n",
    "py.pp.add_depth(tdata)"
   ]
  },
  {
   "cell_type": "markdown",
   "id": "f5e8e08c",
   "metadata": {},
   "source": [
    "## Process data"
   ]
  },
  {
   "cell_type": "markdown",
   "id": "b92f0835",
   "metadata": {},
   "source": [
    "subset to 2000 variable genes"
   ]
  },
  {
   "cell_type": "code",
   "execution_count": 196,
   "id": "9266462d",
   "metadata": {},
   "outputs": [],
   "source": [
    "tdata.layers[\"counts\"] = tdata.raw.X.copy()\n",
    "tdata.layers[\"normalized\"] = sc.pp.normalize_total(tdata, layer=\"counts\", copy=True).X\n",
    "tdata.layers[\"normalized\"] = sc.pp.log1p(tdata, layer=\"normalized\", copy=True).X\n",
    "sc.pp.highly_variable_genes(tdata, n_top_genes=2000, subset=True, layer=\"normalized\")"
   ]
  },
  {
   "cell_type": "markdown",
   "id": "fa68e153",
   "metadata": {},
   "source": [
    "Calculate priors"
   ]
  },
  {
   "cell_type": "code",
   "execution_count": 197,
   "id": "17684869",
   "metadata": {},
   "outputs": [],
   "source": [
    "priors = tdata.obsm[\"characters\"].stack().value_counts()\n",
    "priors = priors[~priors.index.isin([\"-\", \"0\"])]\n",
    "priors = priors / priors.sum()\n",
    "priors = priors.to_dict()\n",
    "tdata.uns[\"priors\"] = priors"
   ]
  },
  {
   "cell_type": "markdown",
   "id": "c8d0859b",
   "metadata": {},
   "source": [
    "Clean up"
   ]
  },
  {
   "cell_type": "code",
   "execution_count": 198,
   "id": "a99fc151",
   "metadata": {},
   "outputs": [],
   "source": [
    "tdata.obs.rename(columns={\"Tumor\": \"tumor\", \"Cluster-Name\": \"cluster\", \"Lane\": \"lane\", \"Mouse\": \"mouse\"}, inplace=True)\n",
    "tdata.obs = tdata.obs[\n",
    "    [\n",
    "        \"tumor\",\n",
    "        \"mouse\",\n",
    "        \"lane\",\n",
    "        \"fitness\",\n",
    "        \"plasticity\",\n",
    "        \"cluster\",\n",
    "        \"tree\",\n",
    "    ]\n",
    "].copy()\n",
    "del tdata.raw\n",
    "del tdata.layers[\"normalized\"]\n",
    "del tdata.obsp[\"connectivities\"]\n",
    "del tdata.obsp[\"distances\"]\n",
    "tdata.uns = {}"
   ]
  },
  {
   "cell_type": "markdown",
   "id": "5ee1d512",
   "metadata": {},
   "source": [
    "## Save TreeData"
   ]
  },
  {
   "cell_type": "code",
   "execution_count": 213,
   "id": "5e62dd69",
   "metadata": {},
   "outputs": [],
   "source": [
    "tdata.write_h5td(path / \"yang22.h5td\")"
   ]
  }
 ],
 "metadata": {
  "kernelspec": {
   "display_name": "pycea",
   "language": "python",
   "name": "pycea"
  }
 },
 "nbformat": 4,
 "nbformat_minor": 5
}
